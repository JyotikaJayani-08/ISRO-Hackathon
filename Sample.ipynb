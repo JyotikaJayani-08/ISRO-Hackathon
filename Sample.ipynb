{
  "nbformat": 4,
  "nbformat_minor": 0,
  "metadata": {
    "colab": {
      "provenance": [],
      "authorship_tag": "ABX9TyPtHPMftevVmdX+EcHmjBhQ",
      "include_colab_link": true
    },
    "kernelspec": {
      "name": "python3",
      "display_name": "Python 3"
    },
    "language_info": {
      "name": "python"
    }
  },
  "cells": [
    {
      "cell_type": "markdown",
      "metadata": {
        "id": "view-in-github",
        "colab_type": "text"
      },
      "source": [
        "<a href=\"https://colab.research.google.com/github/JyotikaJayani-08/ISRO-Hackathon/blob/main/Sample.ipynb\" target=\"_parent\"><img src=\"https://colab.research.google.com/assets/colab-badge.svg\" alt=\"Open In Colab\"/></a>"
      ]
    },
    {
      "cell_type": "markdown",
      "source": [
        "1.Input Text Preparation"
      ],
      "metadata": {
        "id": "0ZhNcvCtrPX2"
      }
    },
    {
      "cell_type": "code",
      "execution_count": 1,
      "metadata": {
        "id": "D7vfe3LtqEJk"
      },
      "outputs": [],
      "source": [
        "import cv2\n",
        "\n",
        "input_image_path = \"path_to_input_image_chip.jpg\"\n",
        "input_image = cv2.imread(input_image_path, cv2.IMREAD_GRAYSCALE)"
      ]
    },
    {
      "cell_type": "markdown",
      "source": [
        "2. Preprocessing\n"
      ],
      "metadata": {
        "id": "0EdexAtkro3-"
      }
    },
    {
      "cell_type": "code",
      "source": [
        "# Resize the input image to match the resolution of the LRO WAC mosaic\n",
        "target_resolution = (desired_width, desired_height)\n",
        "resized_image = cv2.resize(input_image, target_resolution, interpolation=cv2.INTER_LINEAR)\n",
        "\n",
        "# Image enhancement (e.g., contrast adjustment)\n",
        "enhanced_image = cv2.equalizeHist(resized_image)"
      ],
      "metadata": {
        "id": "91jjC44gq5XX"
      },
      "execution_count": null,
      "outputs": []
    },
    {
      "cell_type": "markdown",
      "source": [
        "3.Feature Extraction\n"
      ],
      "metadata": {
        "id": "16tArZOdr0uB"
      }
    },
    {
      "cell_type": "code",
      "source": [
        "\n",
        "# Initialize feature detector (e.g., ORB)\n",
        "orb = cv2.ORB_create()\n",
        "\n",
        "# Detect keypoints and descriptors in the input image\n",
        "keypoints1, descriptors1 = orb.detectAndCompute(enhanced_image, None)\n",
        "\n",
        "# Load and process the LRO WAC mosaic image\n",
        "lro_image_path = \"path_to_lro_wac_mosaic.tif\"\n",
        "lro_image = cv2.imread(lro_image_path, cv2.IMREAD_GRAYSCALE)\n",
        "\n",
        "# Detect keypoints and descriptors in the LRO WAC mosaic\n",
        "keypoints2, descriptors2 = orb.detectAndCompute(lro_image, None)"
      ],
      "metadata": {
        "id": "jXHdAcZTq7u-"
      },
      "execution_count": null,
      "outputs": []
    },
    {
      "cell_type": "markdown",
      "source": [
        "4. Image Matching\n"
      ],
      "metadata": {
        "id": "HfcGb5Lbr6Nl"
      }
    },
    {
      "cell_type": "code",
      "source": [
        "#4. Image Matching\n",
        "# Use FLANN based matcher for finding matches\n",
        "flann_index = 6  # LSH index for ORB\n",
        "index_params = dict(algorithm=flann_index, table_number=6, key_size=12, multi_probe_level=1)\n",
        "search_params = dict(checks=50)\n",
        "\n",
        "flann = cv2.FlannBasedMatcher(index_params, search_params)\n",
        "matches = flann.knnMatch(descriptors1, descriptors2, k=2)\n",
        "\n",
        "# Apply ratio test to find good matches\n",
        "good_matches = []\n",
        "for m, n in matches:\n",
        "    if m.distance < 0.7 * n.distance:\n",
        "        good_matches.append(m)"
      ],
      "metadata": {
        "id": "OWZPdEaxrEGv"
      },
      "execution_count": null,
      "outputs": []
    },
    {
      "cell_type": "markdown",
      "source": [
        "4. Image Matching\n"
      ],
      "metadata": {
        "id": "fqNWSoGWsIGo"
      }
    },
    {
      "cell_type": "code",
      "source": [
        "# Use FLANN based matcher for finding matches\n",
        "flann_index = 6  # LSH index for ORB\n",
        "index_params = dict(algorithm=flann_index, table_number=6, key_size=12, multi_probe_level=1)\n",
        "search_params = dict(checks=50)\n",
        "\n",
        "flann = cv2.FlannBasedMatcher(index_params, search_params)\n",
        "matches = flann.knnMatch(descriptors1, descriptors2, k=2)\n",
        "\n",
        "# Apply ratio test to find good matches\n",
        "good_matches = []\n",
        "for m, n in matches:\n",
        "    if m.distance < 0.7 * n.distance:\n",
        "        good_matches.append(m)\n",
        "5. Georeferencing\n",
        "# Extract location of good matches\n",
        "src_pts = np.float32([keypoints1[m.queryIdx].pt for m in good_matches]).reshape(-1, 1, 2)\n",
        "dst_pts = np.float32([keypoints2[m.trainIdx].pt for m in good_matches]).reshape(-1, 1, 2)\n",
        "\n",
        "# Compute homography matrix\n",
        "H, mask = cv2.findHomography(src_pts, dst_pts, cv2.RANSAC, 5.0)\n",
        "\n",
        "# Transform points to get the geographic location\n",
        "height, width = resized_image.shape\n",
        "pts = np.float32([[0, 0], [0, height - 1], [width - 1, height - 1], [width - 1, 0]]).reshape(-1, 1, 2)\n",
        "dst = cv2.perspectiveTransform(pts, H)"
      ],
      "metadata": {
        "id": "sEeRDlher9NR"
      },
      "execution_count": null,
      "outputs": []
    },
    {
      "cell_type": "markdown",
      "source": [
        "5. Georeferencing\n"
      ],
      "metadata": {
        "id": "pFkUYFnBsKWz"
      }
    },
    {
      "cell_type": "code",
      "source": [
        "# Extract location of good matches\n",
        "src_pts = np.float32([keypoints1[m.queryIdx].pt for m in good_matches]).reshape(-1, 1, 2)\n",
        "dst_pts = np.float32([keypoints2[m.trainIdx].pt for m in good_matches]).reshape(-1, 1, 2)\n",
        "\n",
        "# Compute homography matrix\n",
        "H, mask = cv2.findHomography(src_pts, dst_pts, cv2.RANSAC, 5.0)\n",
        "\n",
        "# Transform points to get the geographic location\n",
        "height, width = resized_image.shape\n",
        "pts = np.float32([[0, 0], [0, height - 1], [width - 1, height - 1], [width - 1, 0]]).reshape(-1, 1, 2)\n",
        "dst = cv2.perspectiveTransform(pts, H)"
      ],
      "metadata": {
        "id": "3s3eWYBLsPAg"
      },
      "execution_count": null,
      "outputs": []
    },
    {
      "cell_type": "markdown",
      "source": [
        "6. Crater Identification\n"
      ],
      "metadata": {
        "id": "D-cfQuiksUXz"
      }
    },
    {
      "cell_type": "code",
      "source": [
        "import geopandas as gpd\n",
        "\n",
        "# Load the lunar crater catalogue as a GeoDataFrame\n",
        "crater_catalogue_path = \"path_to_lunar_crater_catalogue.shp\"\n",
        "crater_catalogue = gpd.read_file(crater_catalogue_path)\n",
        "\n",
        "# Convert the matched points to GeoDataFrame\n",
        "matched_points = gpd.GeoDataFrame(geometry=gpd.points_from_xy(dst[:, 0, 0], dst[:, 0, 1]), crs=\"EPSG:4326\")\n",
        "\n",
        "# Perform spatial join to find the crater name\n",
        "matched_crater = gpd.sjoin(matched_points, crater_catalogue, how=\"left\", op=\"intersects\")\n",
        "crater_name = matched_crater[\"crater_name\"].iloc[0] if not matched_crater.empty else \"Unknown\""
      ],
      "metadata": {
        "id": "zKl3lP8FsW6L"
      },
      "execution_count": null,
      "outputs": []
    },
    {
      "cell_type": "markdown",
      "source": [
        "7. Output\n"
      ],
      "metadata": {
        "id": "LheQACkasayN"
      }
    },
    {
      "cell_type": "code",
      "source": [
        "# Output the geographic coordinates and crater name\n",
        "latitude = matched_points.geometry.y.iloc[0]\n",
        "longitude = matched_points.geometry.x.iloc[0]\n",
        "\n",
        "print(f\"Crater Coordinates: Latitude {latitude}, Longitude {longitude}\")\n",
        "print(f\"Crater Name: {crater_name}\")"
      ],
      "metadata": {
        "id": "E873d-fqscwO"
      },
      "execution_count": null,
      "outputs": []
    }
  ]
}